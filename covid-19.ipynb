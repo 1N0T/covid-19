import numpy as np
import matplotlib.pyplot as plt
import seaborn as sns
import pandas as pd
import datetime

hoy     = datetime.date.today()
undia   = datetime.timedelta(days=1)
fichero = hoy.strftime("%Y-%m-%d") 

# Configuración visualización
%matplotlib inline
sns.set()
sns.set(style='whitegrid')

plt.clf()
plt.cla()
plt.close()

fecha   = datetime.date.today()
undia   = datetime.timedelta(days=1)
fichero = fecha.strftime("%Y-%m-%d") 

# Cargamos datos del Centro Europeo de Prevención de Enfermedades
while True:
    try:
        df = pd.read_excel(f"https://www.ecdc.europa.eu/sites/default/files/documents/COVID-19-geographic-disbtribution-worldwide-{fichero}.xlsx",
                parse_dates=['DateRep'], 
                dayfirst=True,
                index_col='DateRep'            
        )
        break
    except:
        fecha = (fecha - undia)
        fichero = fecha.strftime("%Y-%m-%d") 
        pass


df.sort_index(inplace=True)

# Creamos un subplot para cada gráfica
nrow = 5
ncol = 1
fila = 0
plt.clf()
plt.cla()
plt.close()

figura, ejes = plt.subplots(nrow, ncol, figsize=(15, nrow * 8))

# (pais, etiqueta, ancho línea, millones habitantes)
paises = [
    ('Spain', 'España', 3, 47),
    ('France', 'Francia', 2, 67),
    ('Germany', 'Alemania', 2, 81),
    ('Italy', 'Italia', 2, 60),
]

EU = [
    'Austria',
    'Belgium',
    'Bulgaria',
    'Croatia',
    'Cyprus',
    'Czech Republic',
    'Denmark',
    'Estonia',
    'Finland',
    'France',
    'Germany',
    'Greece',
    'Hungary',
    'Ireland',
    'Italy',
    'Latvia',
    'Lithuania',
    'Luxembourg',
    'Malta',
    'Netherlands',
    'Poland',
    'Portugal',
    'Romania',
    'Slovakia',
    'Slovenia',
    'Spain',
    'Sweden',
]

# Representamos los nuevos casos, detalle paises
fila = 0
for pais in paises:
    df[(df['Countries and territories'] == pais[0])]['Cases'].plot(ax=ejes[fila], lw=pais[2], legend=True, label=pais[1])

df[(df['Countries and territories'].isin(EU))]['Cases'].groupby(['DateRep']).sum().plot(ax=ejes[fila], style='.-.', title=f'Nuevos casos covid-19 ({fichero})', lw=2, legend=True, label='Total paises miembros de la UE.')


# Representamos los acumulados, detalle paises
fila += 1
for pais in paises:
    df[(df['Countries and territories'] == pais[0])]['Cases'].cumsum().plot(ax=ejes[fila], lw=pais[2], legend=True, label=pais[1])

df[(df['Countries and territories'].isin(EU))]['Cases'].groupby(['DateRep']).sum().cumsum().plot(ax=ejes[fila], style='.-.', title=f'Acumulado casos covid-19 ({fichero})', lw=2, legend=True, label='Total paises miembros de la UE.')


# Representamos los nuevos casos china/UE (sólo estados miembros)
fila += 1
df[(df['Countries and territories'] == 'China')]['Cases'].plot(ax=ejes[fila], lw=pais[2], legend=True, label='China')
df[(df['Countries and territories'].isin(EU))]['Cases'].groupby(['DateRep']).sum().plot(ax=ejes[fila], style='.-.', title=f'Nuevos casos covid-19 ({fichero})', lw=2, legend=True, label='Total paises miembros de la UE.')


# Representamos los acumulados china/UE (sólo estados miembros)
fila += 1
df[(df['Countries and territories'] == 'China')]['Cases'].cumsum().plot(ax=ejes[fila], lw=pais[2], legend=True, label='China')
df[(df['Countries and territories'].isin(EU))]['Cases'].groupby(['DateRep']).sum().cumsum().plot(ax=ejes[fila], style='.-.', title=f'Acumulado casos covid-19 ({fichero})', lw=2, legend=True, label='Total paises miembros de la UE.')


# Representamos los acumulados muertos china/UE (sólo estados miembros)
fila += 1
df[(df['Countries and territories'] == 'China')]['Deaths'].cumsum().plot(ax=ejes[fila], lw=pais[2], legend=True, label='China')
df[(df['Countries and territories'].isin(EU))]['Deaths'].groupby(['DateRep']).sum().cumsum().plot(ax=ejes[fila], style='.-.', title=f'Acumulado muertos covid-19 ({fichero})', lw=2, legend=True, label='Total paises miembros de la UE.')


plt.subplots_adjust(left=None, bottom=None, right=None, top=None, wspace=None, hspace=0.4)
plt.legend()
plt.plot()
