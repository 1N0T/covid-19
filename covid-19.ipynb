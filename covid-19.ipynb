import numpy as np
import matplotlib.pyplot as plt
import seaborn as sns
import pandas as pd
import datetime
import sys

hoy     = datetime.date.today()
undia   = datetime.timedelta(days=1)
fichero = hoy.strftime("%Y-%m-%d") 

# Configuración visualización
%matplotlib inline
sns.set()
sns.set(style='whitegrid')

plt.clf()
plt.cla()
plt.close()

fecha   = datetime.date.today()
undia   = datetime.timedelta(days=1)
fichero = fecha.strftime("%Y-%m-%d") 
extension = "xlsx"

# Cargamos datos del Centro Europeo de Prevención de Enfermedades
while True:
    try:
        df = pd.read_excel(f"https://www.ecdc.europa.eu/sites/default/files/documents/COVID-19-geographic-disbtribution-worldwide-{fichero}.{extension}",
                parse_dates=['DateRep'], 
                dayfirst=True,
                index_col='DateRep'            
        )
        break
    except:
        if extension == "xlsx":
            extension = "xls"
        else:
            extension = "xlsx"
            fecha = (fecha - undia)
            fichero = fecha.strftime("%Y-%m-%d") 
        pass


df.sort_index(inplace=True)

# Creamos un subplot para cada gráfica
nrow = 8
ncol = 1
fila = 0
plt.clf()
plt.cla()
plt.close()

figura, ejes = plt.subplots(nrow, ncol, figsize=(15, nrow * 8))

# (pais, etiqueta, ancho línea, millones habitantes)
paises = [
    ('Spain', 'España', 3, 47),
    ('France', 'Francia', 2, 67),
    ('Germany', 'Alemania', 2, 81),
    ('Italy', 'Italia', 2, 60),
]

EU = [
    'Austria',
    'Belgium',
    'Bulgaria',
    'Croatia',
    'Cyprus',
    'Czech Republic',
    'Denmark',
    'Estonia',
    'Finland',
    'France',
    'Germany',
    'Greece',
    'Hungary',
    'Ireland',
    'Italy',
    'Latvia',
    'Lithuania',
    'Luxembourg',
    'Malta',
    'Netherlands',
    'Poland',
    'Portugal',
    'Romania',
    'Slovakia',
    'Slovenia',
    'Spain',
    'Sweden',
]

# Representamos los nuevos casos, detalle paises
fila = 0
for pais in paises:
    df[(df['Countries and territories'] == pais[0])]['Cases'].plot(ax=ejes[fila], lw=pais[2], legend=True, label=pais[1])

df[(df['Countries and territories'].isin(EU))]['Cases'].groupby(['DateRep']).sum().plot(ax=ejes[fila], style='.-.', title=f'Nuevos casos covid-19 ({fichero})', lw=2, legend=True, label='Total paises miembros de la UE.')

# Representamos los acumulados, detalle paises
fila += 1
for pais in paises:
    df[(df['Countries and territories'] == pais[0])]['Cases'].cumsum().plot(ax=ejes[fila], lw=pais[2], legend=True, label=pais[1])

df[(df['Countries and territories'].isin(EU))]['Cases'].groupby(['DateRep']).sum().cumsum().plot(ax=ejes[fila], style='.-.', title=f'Acumulado casos covid-19 ({fichero})', lw=2, legend=True, label='Total paises miembros de la UE.')

# Coeficiente de contagio
# Sustituido por datos del ministerio de Sanidad
# fila += 1
# df_pais = df[(df['Countries and territories'] == 'Spain')]
# df_pais['Cases[i-1]'] = df_pais['Cases'].shift(1, axis=0)
# df_pais['Coeficient'] = df_pais['Cases'] / df_pais['Cases[i-1]']
# df_pais['Coeficient'].plot(ax=ejes[fila], title=f'Coeficiente de contagio ({fichero})', lw=2, legend=True, label='España')
# Marcamos una línea horizontal en el 1
#ejes[fila].axhline(1, color='red',ls='--')
    
# Representamos los nuevos casos china/UE (sólo estados miembros)
fila += 1
df[(df['Countries and territories'] == 'China')]['Cases'].plot(ax=ejes[fila], lw=pais[2], legend=True, label='China')
df[(df['Countries and territories'].isin(EU))]['Cases'].groupby(['DateRep']).sum().plot(ax=ejes[fila], style='.-.', title=f'Nuevos casos covid-19 ({fichero})', lw=2, legend=True, label='Total paises miembros de la UE.')

# Representamos los acumulados china/UE (sólo estados miembros)
fila += 1
df[(df['Countries and territories'] == 'China')]['Cases'].cumsum().plot(ax=ejes[fila], lw=pais[2], legend=True, label='China')
df[(df['Countries and territories'].isin(EU))]['Cases'].groupby(['DateRep']).sum().cumsum().plot(ax=ejes[fila], style='.-.', title=f'Acumulado casos covid-19 ({fichero})', lw=2, legend=True, label='Total paises miembros de la UE.')

# Representamos los acumulados muertos china/UE (sólo estados miembros)
fila += 1
df[(df['Countries and territories'] == 'China')]['Deaths'].cumsum().plot(ax=ejes[fila], lw=pais[2], legend=True, label='China')
df[(df['Countries and territories'] == 'Spain')]['Deaths'].cumsum().plot(ax=ejes[fila], lw=pais[2], legend=True, label='España')
df[(df['Countries and territories'] == 'Italy')]['Deaths'].cumsum().plot(ax=ejes[fila], lw=pais[2], legend=True, label='Italia')
df[(df['Countries and territories'] == 'France')]['Deaths'].cumsum().plot(ax=ejes[fila], lw=pais[2], legend=True, label='Francia')
df[(df['Countries and territories'].isin(EU))]['Deaths'].groupby(['DateRep']).sum().cumsum().plot(ax=ejes[fila], style='.-.', title=f'Acumulado muertos covid-19 ({fichero})', lw=2, legend=True, label='Total paises miembros de la UE.')

url_casos = "https://raw.githubusercontent.com/datadista/datasets/master/COVID%2019/ccaa_covid19_casos.csv"
df_casos = pd.read_csv(url_casos, index_col='CCAA')     
del df_casos['cod_ine']

url_fallecidos = "https://raw.githubusercontent.com/datadista/datasets/master/COVID%2019/ccaa_covid19_fallecidos.csv"
df_fallecidos = pd.read_csv(url_fallecidos, index_col='CCAA')     
del df_fallecidos['cod_ine']

df_casos = df_casos.T
df_casos.reset_index() 
df_casos.index = pd.to_datetime(df_casos.index)

df_fallecidos = df_fallecidos.T
df_fallecidos.reset_index() 
df_fallecidos.index = pd.to_datetime(df_fallecidos.index)

# Calculamos indice de crecimiento España
df_casos_T = df_casos[['Total',]].copy()
df_casos_T['Casos-T[i-1]']    = df_casos_T['Total'].shift(1, axis=0)
df_casos_T['Casos-T[i]']      = df_casos_T['Total'] - df_casos_T['Casos-T[i-1]']
df_casos_T['Casos-T[i][i-1]'] = df_casos_T['Casos-T[i]'].shift(1, axis=0)
df_casos_T['Coeficiente-T']   = df_casos_T['Casos-T[i]'] / df_casos_T['Casos-T[i][i-1]']

# Calculamos indice de crecimiento Catalunya
df_casos_C = df_casos[['Cataluña',]].copy()
df_casos_C['Casos-C[i-1]']    = df_casos_C['Cataluña'].shift(1, axis=0)
df_casos_C['Casos-C[i]']      = df_casos_C['Cataluña'] - df_casos_C['Casos-C[i-1]']
df_casos_C['Casos-C[i][i-1]'] = df_casos_C['Casos-C[i]'].shift(1, axis=0)
df_casos_C['Coeficiente-C']   = df_casos_C['Casos-C[i]'] / df_casos_C['Casos-C[i][i-1]']

# Calculamos indice de crecimiento Madrid
df_casos_M = df_casos[['Madrid',]].copy()
df_casos_M['Casos-M[i-1]']    = df_casos_M['Madrid'].shift(1, axis=0)
df_casos_M['Casos-M[i]']      = df_casos_M['Madrid'] - df_casos_M['Casos-M[i-1]']
df_casos_M['Casos-M[i][i-1]'] = df_casos_M['Casos-M[i]'].shift(1, axis=0)
df_casos_M['Coeficiente-M']   = df_casos_M['Casos-M[i]'] / df_casos_M['Casos-M[i][i-1]']

fila += 1
df_casos_C['Cataluña'].plot(ax=ejes[fila], title='Acumulado de casos (datos recuperados por Datadista del Ministerio de Sanidad)', legend=True, label='Catalunya', lw=3)
df_casos_M['Madrid'].plot(ax=ejes[fila], legend=True, label='Madrid')
df_casos_T['Total'].plot(ax=ejes[fila], legend=True, label='España')

fila += 1
df_fallecidos['Cataluña'].plot(ax=ejes[fila], title='Acumulado de fallecidos', legend=True, label='Catalunya', lw=3)
df_fallecidos['Madrid'].plot(ax=ejes[fila], legend=True, label='Madrid')
df_fallecidos['Total'].plot(ax=ejes[fila], legend=True, label='España')

fila += 1
df_casos_T['Coeficiente-T'].plot(ax=ejes[fila], legend=True, label='España', lw=5, ls='--', alpha=0.5)
df_casos_M['Coeficiente-M'].plot(ax=ejes[fila], legend=True, label='Madrid', lw=3, alpha=0.75)
df_casos_C['Coeficiente-C'].plot(ax=ejes[fila], title='Coeficiente de crecimiento', legend=True, label='Catalunya', lw=4)
ejes[fila].axhline(1, color='red',ls='--')


plt.subplots_adjust(left=None, bottom=None, right=None, top=None, wspace=None, hspace=0.4)
plt.legend()
plt.plot()

